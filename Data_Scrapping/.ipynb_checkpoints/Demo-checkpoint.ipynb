{
 "cells": [
  {
   "cell_type": "markdown",
   "metadata": {},
   "source": [
    "## Scrap LinkedIn Profile Name "
   ]
  },
  {
   "cell_type": "code",
   "execution_count": 30,
   "metadata": {},
   "outputs": [],
   "source": [
    "import requests, time, random\n",
    "from bs4 import BeautifulSoup\n",
    "from selenium import webdriver\n",
    "import pandas as pd"
   ]
  },
  {
   "cell_type": "code",
   "execution_count": 31,
   "metadata": {},
   "outputs": [],
   "source": [
    "if __name__ == \"__main__\":\n",
    "    try:\n",
    "        driver = webdriver.Firefox( executable_path = \"driver/geckodriver.exe\")\n",
    "        driver.get('https://www.linkedin.com/uas/login')\n",
    "        #browser = webdriver.Chrome('driver/chromedriver.exe')\n",
    "        #browser.get('https://www.linkedin.com/uas/login')\n",
    "        file = open('config.txt')\n",
    "        lines = file.readlines()\n",
    "        username = lines[0]\n",
    "        password = lines[1]\n",
    "\n",
    "\n",
    "        elementID = driver.find_element_by_xpath('//*[@id=\"username\"]')\n",
    "        elementID.send_keys(username)\n",
    "\n",
    "        elementID = driver.find_element_by_xpath('//*[@id=\"password\"]')\n",
    "        elementID.send_keys(password)\n",
    "\n",
    "        elementID.submit()\n",
    "    except Exception as e:\n",
    "        print(e)\n",
    "        "
   ]
  },
  {
   "cell_type": "code",
   "execution_count": 32,
   "metadata": {},
   "outputs": [],
   "source": [
    "try:\n",
    "    link = 'https://www.linkedin.com/search/results/people/?facetGeoRegion=%5B%22in%3A0%22%5D&facetIndustry=%5B%224%22%5D&origin=FACETED_SEARCH&title=CEO'\n",
    "    driver.get(link)\n",
    "except Exception as e:\n",
    "    print(e)\n"
   ]
  },
  {
   "cell_type": "code",
   "execution_count": 33,
   "metadata": {},
   "outputs": [],
   "source": [
    "SCROLL_PAUSE_TIME = 5\n",
    "\n",
    "# Get scroll height\n",
    "last_height = driver.execute_script(\"return document.body.scrollHeight\")\n",
    "\n",
    "for i in range(3):\n",
    "    # Scroll down to bottom\n",
    "    driver.execute_script(\"window.scrollTo(0, document.body.scrollHeight);\")\n",
    "\n",
    "    # Wait to load page\n",
    "    time.sleep(SCROLL_PAUSE_TIME)\n",
    "\n",
    "    # Calculate new scroll height and compare with last scroll height\n",
    "    new_height = driver.execute_script(\"return document.body.scrollHeight\")\n",
    "    if new_height == last_height:\n",
    "        break\n",
    "    last_height = new_height"
   ]
  },
  {
   "cell_type": "code",
   "execution_count": 42,
   "metadata": {},
   "outputs": [],
   "source": [
    "src = driver.page_source\n",
    "soup = BeautifulSoup(src, 'lxml')\n",
    "#soup\n",
    "name_div = soup.find('div', {'class': 'blended-srp-results-js pt0 pb4 ph0 container-with-shadow'})\n",
    "#name_div"
   ]
  },
  {
   "cell_type": "code",
   "execution_count": 37,
   "metadata": {},
   "outputs": [],
   "source": [
    "name_ul = soup.find('ul',{'search-results__list list-style-none'})\n",
    "#name_ul   "
   ]
  },
  {
   "cell_type": "code",
   "execution_count": 69,
   "metadata": {},
   "outputs": [],
   "source": [
    "name_div2 = soup.find_all('div', {'class': 'search-result__info pt3 pb4 ph0'})\n",
    "#name_div2"
   ]
  },
  {
   "cell_type": "code",
   "execution_count": 70,
   "metadata": {},
   "outputs": [],
   "source": [
    "name_span = soup.find_all('span',{'name-and-distance'})\n",
    "#name_span\n",
    "desg=soup.find_all('p',{'subline-level-1 t-14 t-black t-normal search-result__truncate'})\n",
    "#desg"
   ]
  },
  {
   "cell_type": "code",
   "execution_count": 71,
   "metadata": {},
   "outputs": [],
   "source": [
    "name = soup.find_all('span',{'name actor-name'})\n",
    "#name\n",
    "loc = soup.find_all('p',{'subline-level-2 t-12 t-black--light t-normal search-result__truncate'})\n",
    "#loc"
   ]
  },
  {
   "cell_type": "code",
   "execution_count": 68,
   "metadata": {},
   "outputs": [
    {
     "data": {
      "text/plain": [
       "[[<span class=\"name actor-name\">Salil Godika</span>,\n",
       "  <span class=\"name actor-name\">Amrutbhai Patel</span>,\n",
       "  <span class=\"name actor-name\">Sagar Deshmukh</span>,\n",
       "  <span class=\"name actor-name\">Siva Kumar</span>],\n",
       " [<p class=\"subline-level-1 t-14 t-black t-normal search-result__truncate\">\n",
       "  <span dir=\"ltr\">Chief Executive Officer (CEO) at Technosoft Corp.</span>\n",
       "  </p>,\n",
       "  <p class=\"subline-level-1 t-14 t-black t-normal search-result__truncate\">\n",
       "  <span dir=\"ltr\">Chief Executive Officer at Linedata</span>\n",
       "  </p>,\n",
       "  <p class=\"subline-level-1 t-14 t-black t-normal search-result__truncate\">\n",
       "  <span dir=\"ltr\">Founder &amp; Chief Executive Officer (CEO) at SABER SOFTECH PRIVATE LIMITED</span>\n",
       "  </p>,\n",
       "  <p class=\"subline-level-1 t-14 t-black t-normal search-result__truncate\">\n",
       "  <span dir=\"ltr\">Chief Executive Officer at DELOPT</span>\n",
       "  </p>,\n",
       "  <p class=\"subline-level-1 t-14 t-black t-normal search-result__truncate\">\n",
       "  <span dir=\"ltr\">Chief Executive Officer at ENVISIONARD SOFTWARE SERVICES PRIVATE LIMITED</span>\n",
       "  </p>,\n",
       "  <p class=\"subline-level-1 t-14 t-black t-normal search-result__truncate\">\n",
       "  <span dir=\"ltr\">Chief Executive Officer at Getinfy Solutions</span>\n",
       "  </p>],\n",
       " [<p class=\"subline-level-2 t-12 t-black--light t-normal search-result__truncate\">\n",
       "  <span dir=\"ltr\">Bengaluru Area, India</span>\n",
       "  </p>,\n",
       "  <p class=\"subline-level-2 t-12 t-black--light t-normal search-result__truncate\">\n",
       "  <span dir=\"ltr\">Patan Area, India</span>\n",
       "  </p>,\n",
       "  <p class=\"subline-level-2 t-12 t-black--light t-normal search-result__truncate\">\n",
       "  <span dir=\"ltr\">Pune Area, India</span>\n",
       "  </p>,\n",
       "  <p class=\"subline-level-2 t-12 t-black--light t-normal search-result__truncate\">\n",
       "  <span dir=\"ltr\">Bengaluru Area, India</span>\n",
       "  </p>,\n",
       "  <p class=\"subline-level-2 t-12 t-black--light t-normal search-result__truncate\">\n",
       "  <span dir=\"ltr\">India</span>\n",
       "  </p>,\n",
       "  <p class=\"subline-level-2 t-12 t-black--light t-normal search-result__truncate\">\n",
       "  <span dir=\"ltr\">India</span>\n",
       "  </p>]]"
      ]
     },
     "execution_count": 68,
     "metadata": {},
     "output_type": "execute_result"
    }
   ],
   "source": [
    "info = []\n",
    "info.append(name)\n",
    "info.append(desg)\n",
    "info.append(loc)\n",
    "info"
   ]
  },
  {
   "cell_type": "code",
   "execution_count": null,
   "metadata": {
    "scrolled": true
   },
   "outputs": [],
   "source": []
  },
  {
   "cell_type": "code",
   "execution_count": null,
   "metadata": {},
   "outputs": [],
   "source": []
  },
  {
   "cell_type": "code",
   "execution_count": null,
   "metadata": {},
   "outputs": [],
   "source": []
  },
  {
   "cell_type": "code",
   "execution_count": null,
   "metadata": {},
   "outputs": [],
   "source": []
  },
  {
   "cell_type": "code",
   "execution_count": null,
   "metadata": {},
   "outputs": [],
   "source": []
  },
  {
   "cell_type": "code",
   "execution_count": null,
   "metadata": {},
   "outputs": [],
   "source": []
  },
  {
   "cell_type": "code",
   "execution_count": 75,
   "metadata": {},
   "outputs": [],
   "source": []
  },
  {
   "cell_type": "code",
   "execution_count": 75,
   "metadata": {},
   "outputs": [],
   "source": []
  },
  {
   "cell_type": "code",
   "execution_count": 75,
   "metadata": {},
   "outputs": [],
   "source": []
  },
  {
   "cell_type": "code",
   "execution_count": 75,
   "metadata": {},
   "outputs": [],
   "source": []
  },
  {
   "cell_type": "code",
   "execution_count": null,
   "metadata": {},
   "outputs": [],
   "source": []
  },
  {
   "cell_type": "code",
   "execution_count": null,
   "metadata": {},
   "outputs": [],
   "source": []
  },
  {
   "cell_type": "code",
   "execution_count": null,
   "metadata": {},
   "outputs": [],
   "source": []
  },
  {
   "cell_type": "code",
   "execution_count": null,
   "metadata": {},
   "outputs": [],
   "source": []
  },
  {
   "cell_type": "markdown",
   "metadata": {},
   "source": []
  },
  {
   "cell_type": "code",
   "execution_count": 48,
   "metadata": {},
   "outputs": [],
   "source": []
  },
  {
   "cell_type": "code",
   "execution_count": null,
   "metadata": {},
   "outputs": [],
   "source": []
  },
  {
   "cell_type": "code",
   "execution_count": null,
   "metadata": {},
   "outputs": [],
   "source": []
  },
  {
   "cell_type": "code",
   "execution_count": null,
   "metadata": {},
   "outputs": [],
   "source": []
  },
  {
   "cell_type": "code",
   "execution_count": null,
   "metadata": {},
   "outputs": [],
   "source": []
  },
  {
   "cell_type": "code",
   "execution_count": null,
   "metadata": {},
   "outputs": [],
   "source": []
  },
  {
   "cell_type": "code",
   "execution_count": null,
   "metadata": {},
   "outputs": [],
   "source": []
  },
  {
   "cell_type": "code",
   "execution_count": null,
   "metadata": {},
   "outputs": [],
   "source": []
  },
  {
   "cell_type": "code",
   "execution_count": null,
   "metadata": {},
   "outputs": [],
   "source": []
  },
  {
   "cell_type": "code",
   "execution_count": null,
   "metadata": {},
   "outputs": [],
   "source": []
  },
  {
   "cell_type": "markdown",
   "metadata": {},
   "source": []
  },
  {
   "cell_type": "code",
   "execution_count": null,
   "metadata": {},
   "outputs": [],
   "source": []
  },
  {
   "cell_type": "code",
   "execution_count": null,
   "metadata": {},
   "outputs": [],
   "source": []
  },
  {
   "cell_type": "code",
   "execution_count": null,
   "metadata": {},
   "outputs": [],
   "source": []
  },
  {
   "cell_type": "code",
   "execution_count": 61,
   "metadata": {},
   "outputs": [
    {
     "data": {
      "text/plain": [
       "'Industrial Mathematics with Computer Application'"
      ]
     },
     "execution_count": 61,
     "metadata": {},
     "output_type": "execute_result"
    }
   ],
   "source": [
    "stream = edu_section.find('p', {'class': 'pv-entity__secondary-title pv-entity__fos t-14 t-black t-normal'}).find_all('span')[1].get_text().strip()\n",
    "stream"
   ]
  },
  {
   "cell_type": "code",
   "execution_count": 62,
   "metadata": {},
   "outputs": [
    {
     "data": {
      "text/plain": [
       "'2017 – 2020'"
      ]
     },
     "execution_count": 62,
     "metadata": {},
     "output_type": "execute_result"
    }
   ],
   "source": [
    "degree_year = edu_section.find('p', {'class': 'pv-entity__dates t-14 t-black--light t-normal'}).find_all('span')[1].get_text().strip()\n",
    "degree_year"
   ]
  },
  {
   "cell_type": "code",
   "execution_count": 63,
   "metadata": {},
   "outputs": [
    {
     "data": {
      "text/plain": [
       "['https://www.linkedin.com/search/results/people/?facetGeoRegion=%5B%22in%3A0%22%5D&facetIndustry=%5B%224%22%5D&origin=FACETED_SEARCH&title=CEO',\n",
       " 'Sachin Gaykhe',\n",
       " 'Student at Ferguson College',\n",
       " 'Pune, Maharashtra, India',\n",
       " '117 connections']"
      ]
     },
     "execution_count": 63,
     "metadata": {},
     "output_type": "execute_result"
    }
   ],
   "source": [
    "info"
   ]
  },
  {
   "cell_type": "code",
   "execution_count": 64,
   "metadata": {},
   "outputs": [],
   "source": [
    "info.append(college_name)\n",
    "info.append(degree_name)\n",
    "info.append(stream)\n",
    "info.append(degree_year)"
   ]
  },
  {
   "cell_type": "code",
   "execution_count": 65,
   "metadata": {},
   "outputs": [
    {
     "data": {
      "text/plain": [
       "['https://www.linkedin.com/search/results/people/?facetGeoRegion=%5B%22in%3A0%22%5D&facetIndustry=%5B%224%22%5D&origin=FACETED_SEARCH&title=CEO',\n",
       " 'Sachin Gaykhe',\n",
       " 'Student at Ferguson College',\n",
       " 'Pune, Maharashtra, India',\n",
       " '117 connections',\n",
       " 'Fergusson College',\n",
       " 'M.Sc Tech',\n",
       " 'Industrial Mathematics with Computer Application',\n",
       " '2017 – 2020']"
      ]
     },
     "execution_count": 65,
     "metadata": {},
     "output_type": "execute_result"
    }
   ],
   "source": [
    "info"
   ]
  },
  {
   "cell_type": "code",
   "execution_count": null,
   "metadata": {},
   "outputs": [],
   "source": []
  },
  {
   "cell_type": "code",
   "execution_count": null,
   "metadata": {},
   "outputs": [],
   "source": []
  },
  {
   "cell_type": "code",
   "execution_count": null,
   "metadata": {},
   "outputs": [],
   "source": []
  },
  {
   "cell_type": "code",
   "execution_count": null,
   "metadata": {},
   "outputs": [],
   "source": []
  },
  {
   "cell_type": "code",
   "execution_count": null,
   "metadata": {},
   "outputs": [],
   "source": []
  },
  {
   "cell_type": "code",
   "execution_count": null,
   "metadata": {},
   "outputs": [],
   "source": []
  },
  {
   "cell_type": "code",
   "execution_count": null,
   "metadata": {},
   "outputs": [],
   "source": []
  },
  {
   "cell_type": "code",
   "execution_count": null,
   "metadata": {},
   "outputs": [],
   "source": []
  },
  {
   "cell_type": "code",
   "execution_count": null,
   "metadata": {},
   "outputs": [],
   "source": []
  },
  {
   "cell_type": "code",
   "execution_count": null,
   "metadata": {},
   "outputs": [],
   "source": []
  },
  {
   "cell_type": "code",
   "execution_count": null,
   "metadata": {},
   "outputs": [],
   "source": []
  },
  {
   "cell_type": "code",
   "execution_count": null,
   "metadata": {},
   "outputs": [],
   "source": []
  },
  {
   "cell_type": "code",
   "execution_count": null,
   "metadata": {},
   "outputs": [],
   "source": []
  },
  {
   "cell_type": "code",
   "execution_count": null,
   "metadata": {},
   "outputs": [],
   "source": []
  },
  {
   "cell_type": "code",
   "execution_count": null,
   "metadata": {},
   "outputs": [],
   "source": []
  },
  {
   "cell_type": "code",
   "execution_count": null,
   "metadata": {},
   "outputs": [],
   "source": []
  }
 ],
 "metadata": {
  "kernelspec": {
   "display_name": "Python 3",
   "language": "python",
   "name": "python3"
  },
  "language_info": {
   "codemirror_mode": {
    "name": "ipython",
    "version": 3
   },
   "file_extension": ".py",
   "mimetype": "text/x-python",
   "name": "python",
   "nbconvert_exporter": "python",
   "pygments_lexer": "ipython3",
   "version": "3.8.1"
  }
 },
 "nbformat": 4,
 "nbformat_minor": 2
}
