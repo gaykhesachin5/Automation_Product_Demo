{
 "cells": [
  {
   "cell_type": "markdown",
   "metadata": {},
   "source": [
    "## Scrap LinkedIn Profile Name "
   ]
  },
  {
   "cell_type": "code",
   "execution_count": 26,
   "metadata": {},
   "outputs": [],
   "source": [
    "import requests, time, random\n",
    "from bs4 import BeautifulSoup\n",
    "from selenium import webdriver"
   ]
  },
  {
   "cell_type": "code",
   "execution_count": 27,
   "metadata": {},
   "outputs": [],
   "source": [
    "if __name__ == \"__main__\":\n",
    "    try:\n",
    "        driver = webdriver.Firefox( executable_path = \"driver/geckodriver.exe\")\n",
    "        driver.get('https://www.linkedin.com/uas/login')\n",
    "        #browser = webdriver.Chrome('driver/chromedriver.exe')\n",
    "        #browser.get('https://www.linkedin.com/uas/login')\n",
    "        file = open('config.txt')\n",
    "        lines = file.readlines()\n",
    "        username = lines[0]\n",
    "        password = lines[1]\n",
    "\n",
    "\n",
    "        elementID = driver.find_element_by_xpath('//*[@id=\"username\"]')\n",
    "        elementID.send_keys(username)\n",
    "\n",
    "        elementID = driver.find_element_by_xpath('//*[@id=\"password\"]')\n",
    "        elementID.send_keys(password)\n",
    "\n",
    "        elementID.submit()\n",
    "    except Exception as e:\n",
    "        print(e)\n",
    "        "
   ]
  },
  {
   "cell_type": "code",
   "execution_count": 28,
   "metadata": {},
   "outputs": [],
   "source": [
    "try:\n",
    "    link = 'https://www.linkedin.com/search/results/people/?facetGeoRegion=%5B%22in%3A0%22%5D&facetIndustry=%5B%224%22%5D&origin=FACETED_SEARCH&title=CEO'\n",
    "    driver.get(link)\n",
    "except Exception as e:\n",
    "    print(e)\n"
   ]
  },
  {
   "cell_type": "code",
   "execution_count": 29,
   "metadata": {},
   "outputs": [],
   "source": [
    "SCROLL_PAUSE_TIME = 5\n",
    "\n",
    "# Get scroll height\n",
    "last_height = driver.execute_script(\"return document.body.scrollHeight\")\n",
    "\n",
    "for i in range(3):\n",
    "    # Scroll down to bottom\n",
    "    driver.execute_script(\"window.scrollTo(0, document.body.scrollHeight);\")\n",
    "\n",
    "    # Wait to load page\n",
    "    time.sleep(SCROLL_PAUSE_TIME)\n",
    "\n",
    "    # Calculate new scroll height and compare with last scroll height\n",
    "    new_height = driver.execute_script(\"return document.body.scrollHeight\")\n",
    "    if new_height == last_height:\n",
    "        break\n",
    "    last_height = new_height"
   ]
  },
  {
   "cell_type": "code",
   "execution_count": 31,
   "metadata": {
    "scrolled": true
   },
   "outputs": [
    {
     "data": {
      "text/plain": [
       "<div class=\"blended-srp-results-js pt0 pb4 ph0 container-with-shadow\">\n",
       "<h3 class=\"search-results__total pt4 pb0 t-14 t-black--light t-normal pl5 clear-both\">\n",
       "          Showing 10,000+ results\n",
       "      </h3>\n",
       "<ul class=\"search-results__list list-style-none\">\n",
       "<li class=\"search-result search-result__occluded-item ember-view\" id=\"ember79\"> <div class=\"search-entity search-result search-result--person search-result--occlusion-enabled ember-view\" data-test-search-result=\"PROFILE\" id=\"ember80\"><div class=\"search-result__wrapper\">\n",
       "<div class=\"search-result__image-wrapper\">\n",
       "<a class=\"search-result__result-link ember-view\" data-control-id=\"1a2prCLORAqJR0MqJRrXKA==\" data-control-name=\"search_srp_result\" href=\"/in/salilgodika/\" id=\"ember81\"> <figure class=\"search-result__image\">\n",
       "<div class=\"ivm-image-view-model ember-view\" id=\"ember82\"> <div class=\"display-flex ivm-view-attr__img-wrapper ivm-view-attr__img-wrapper--use-img-tag ember-view\" id=\"ember83\"><!-- --> <div class=\"presence-entity presence-entity--size-4 ember-view\" id=\"ember237\"><img alt=\"Salil Godika\" class=\"ivm-view-attr__img--centered EntityPhoto-circle-4 presence-entity__image EntityPhoto-circle-4 lazy-image loaded ember-view\" id=\"ember238\" loading=\"\" src=\"https://media-exp1.licdn.com/dms/image/C5103AQEgwzXBIujnJA/profile-displayphoto-shrink_100_100/0?e=1589414400&amp;v=beta&amp;t=ZGGbaQ3anRwfpgp8stx8myQoz0uysdo4CZvjTwCcj4s\" title=\"Salil Godika\"/>\n",
       "<div class=\"presence-entity__indicator presence-entity__indicator--size-4 presence-indicator hidden presence-indicator--size-4 ember-view\" id=\"ember239\">\n",
       "<span class=\"visually-hidden\">\n",
       "    Status is offline\n",
       "  </span></div></div>\n",
       "</div>\n",
       "</div>\n",
       "</figure>\n",
       "</a> </div>\n",
       "<div class=\"search-result__info pt3 pb4 ph0\">\n",
       "<a class=\"search-result__result-link ember-view\" data-control-id=\"1a2prCLORAqJR0MqJRrXKA==\" data-control-name=\"search_srp_result\" href=\"/in/salilgodika/\" id=\"ember85\"> <h3 class=\"actor-name-with-distance search-result__title single-line-truncate ember-view\" id=\"ember86\"><span class=\"name-and-icon\"><span class=\"name-and-distance\">\n",
       "<span class=\"name actor-name\">Salil Godika</span>\n",
       "<span class=\"distance-badge separator ember-view\" data-test-distance-badge=\"\" id=\"ember87\"><span class=\"visually-hidden\">\n",
       "    2nd degree connection\n",
       "</span>\n",
       "<span class=\"dist-value\">2nd</span>\n",
       "</span>\n",
       "</span><!-- --></span>\n",
       "</h3>\n",
       "</a> <p class=\"subline-level-1 t-14 t-black t-normal search-result__truncate\">\n",
       "<span dir=\"ltr\">Chief Executive Officer (CEO) at Technosoft Corp.</span>\n",
       "</p>\n",
       "<p class=\"subline-level-2 t-12 t-black--light t-normal search-result__truncate\">\n",
       "<span dir=\"ltr\">Bengaluru Area, India</span>\n",
       "</p>\n",
       "<!-- -->\n",
       "<div class=\"search-result__social-proof ember-view\" data-test-social-proof-with-names=\"\" id=\"ember88\"> <li-icon aria-hidden=\"true\" class=\"t-black--light\" size=\"small\" type=\"people-icon\"><svg data-supported-dps=\"16x16\" fill=\"currentColor\" focusable=\"false\" height=\"16\" viewbox=\"0 0 16 16\" width=\"16\" xmlns=\"http://www.w3.org/2000/svg\">\n",
       "<path d=\"M14.27 9.23l-1.2-.45.31-.51A4.17 4.17 0 0014 6.08V5.5a2.5 2.5 0 00-5 0v.58a4.17 4.17 0 00.62 2.19l.31.51-1.15.43a3.48 3.48 0 00-1-.63L7 8.29v-.56l.25-.41A5 5 0 008 4.69V4a3 3 0 00-6 0v.69a5 5 0 00.75 2.63l.25.41v.56l-.74.29A3.5 3.5 0 000 11.84V13a1 1 0 001 1h14a1 1 0 001-1v-1.25a2.7 2.7 0 00-1.73-2.52zm-3.39-3.85a.63.63 0 011.25 0v1a2.29 2.29 0 01-.34 1.2L11.5 8l-.28-.46a2.29 2.29 0 01-.34-1.2v-1zM4 3.75a1 1 0 012 0v1.44a3 3 0 01-.38 1.46l-.33.6a.25.25 0 01-.22.13h-.14a.25.25 0 01-.22-.13l-.33-.6A3 3 0 014 5.19V3.75zM8 12H2v-.32a1.5 1.5 0 011-1.4l1.5-.58v-.5a2 2 0 00.4.05h.2a2 2 0 00.4-.05v.5l1.5.58a1.5 1.5 0 011 1.4V12zm6.13 0H10v-.16a3.48 3.48 0 00-.24-1.25l1.24-.46v-.38h1v.38l1.54.61a.93.93 0 01.58.87V12z\"></path>\n",
       "</svg></li-icon>\n",
       "<span class=\"search-result__social-proof-count t-12 t-black--light ml1\">\n",
       "<span data-entity-hovercard-id=\"urn:li:fs_miniProfile:ACoAAAGvtZcBOCCg8g7XPyu_qcNtN1zFBbcfWqY\"><a class=\"li-i18n-linkto search-result__social-proof-link search-result__social-proof-connection-name search-result__social-proof-connection-name--1 t-bold\" data-control-id=\"1a2prCLORAqJR0MqJRrXKA==\" data-control-name=\"view_mutual_connection_profile\" href=\"/in/shilpavyapari/\">Shilpa Vyapari</a></span> and <span data-entity-hovercard-id=\"urn:li:fs_miniProfile:ACoAAAhLiboBMmzgs_elGYPDb7OY9Q4QMcChTPM\"><a class=\"li-i18n-linkto search-result__social-proof-link search-result__social-proof-connection-name search-result__social-proof-connection-name--2 t-bold\" data-control-id=\"1a2prCLORAqJR0MqJRrXKA==\" data-control-name=\"view_mutual_connection_profile\" href=\"/in/harshitmahajan/\">Harshit Mahajan</a></span> are shared connections\n",
       "            </span>\n",
       "</div>\n",
       "</div>\n",
       "<div class=\"search-result__actions\">\n",
       "<div class=\"ember-view\" id=\"ember224\"> <button aria-label=\"Connect with Salil Godika. Chief Executive Officer (CEO) at Technosoft Corp., Bengaluru Area, India\" class=\"search-result__action-button search-result__actions--primary artdeco-button artdeco-button--default artdeco-button--2 artdeco-button--secondary\" data-control-name=\"srp_profile_actions\" data-ember-action=\"\" data-ember-action-225=\"225\">\n",
       "        Connect\n",
       "    </button>\n",
       "<div class=\"ember-view\" id=\"ember226\"><div class=\"ember-view\" id=\"ember227\"><!-- --></div></div>\n",
       "<!-- --></div>\n",
       "</div>\n",
       "<div class=\"ember-view\" id=\"ember89\"><div class=\"ember-view\" id=\"ember90\"><!-- --></div>\n",
       "</div>\n",
       "</div>\n",
       "</div>\n",
       "</li><li class=\"search-result search-result__occluded-item ember-view\" id=\"ember92\"> <div class=\"search-entity search-result search-result--person search-result--occlusion-enabled ember-view\" data-test-search-result=\"PROFILE\" id=\"ember93\"><div class=\"search-result__wrapper\">\n",
       "<div class=\"search-result__image-wrapper\">\n",
       "<a class=\"search-result__result-link ember-view\" data-control-id=\"4lraelJHSSiO+ht3SWaC8Q==\" data-control-name=\"search_srp_result\" href=\"/in/amrutbhai-patel-937749170/\" id=\"ember94\"> <figure class=\"search-result__image\">\n",
       "<div class=\"ivm-image-view-model ember-view\" id=\"ember95\"> <div class=\"display-flex ivm-view-attr__img-wrapper ivm-view-attr__img-wrapper--use-img-tag ember-view\" id=\"ember96\"> <div class=\"EntityPhoto-circle-4-ghost-person ivm-view-attr__ghost-entity\">\n",
       "<div class=\"visually-hidden\">Amrutbhai Patel</div>\n",
       "</div>\n",
       "</div>\n",
       "</div>\n",
       "</figure>\n",
       "</a> </div>\n",
       "<div class=\"search-result__info pt3 pb4 ph0\">\n",
       "<a class=\"search-result__result-link ember-view\" data-control-id=\"4lraelJHSSiO+ht3SWaC8Q==\" data-control-name=\"search_srp_result\" href=\"/in/amrutbhai-patel-937749170/\" id=\"ember97\"> <h3 class=\"actor-name-with-distance search-result__title single-line-truncate ember-view\" id=\"ember98\"><span class=\"name-and-icon\"><span class=\"name-and-distance\">\n",
       "<span class=\"name actor-name\">Amrutbhai Patel</span>\n",
       "<span class=\"distance-badge separator ember-view\" data-test-distance-badge=\"\" id=\"ember99\"><span class=\"visually-hidden\">\n",
       "    3rd degree connection\n",
       "</span>\n",
       "<span class=\"dist-value\">3rd</span>\n",
       "</span>\n",
       "</span><!-- --></span>\n",
       "</h3>\n",
       "</a> <p class=\"subline-level-1 t-14 t-black t-normal search-result__truncate\">\n",
       "<span dir=\"ltr\">Chief Executive Officer at Linedata</span>\n",
       "</p>\n",
       "<p class=\"subline-level-2 t-12 t-black--light t-normal search-result__truncate\">\n",
       "<span dir=\"ltr\">Patan Area, India</span>\n",
       "</p>\n",
       "<!-- -->\n",
       "<!-- --> </div>\n",
       "<div class=\"search-result__actions\">\n",
       "<div class=\"ember-view\" id=\"ember228\"> <button aria-label=\"Connect with Amrutbhai Patel. Chief Executive Officer at Linedata, Patan Area, India\" class=\"search-result__action-button search-result__actions--primary artdeco-button artdeco-button--default artdeco-button--2 artdeco-button--secondary\" data-control-name=\"srp_profile_actions\" data-ember-action=\"\" data-ember-action-229=\"229\">\n",
       "        Connect\n",
       "    </button>\n",
       "<div class=\"ember-view\" id=\"ember230\"><div class=\"ember-view\" id=\"ember231\"><!-- --></div></div>\n",
       "<!-- --></div>\n",
       "</div>\n",
       "<div class=\"ember-view\" id=\"ember100\"><div class=\"ember-view\" id=\"ember101\"><!-- --></div>\n",
       "</div>\n",
       "</div>\n",
       "</div>\n",
       "</li><li class=\"search-result search-result__occluded-item ember-view\" id=\"ember103\"> <div class=\"search-entity search-result search-result--person search-result--occlusion-enabled ember-view\" data-test-search-result=\"PROFILE\" id=\"ember104\"><div class=\"search-result__wrapper\">\n",
       "<div class=\"search-result__image-wrapper\">\n",
       "<a class=\"search-result__result-link ember-view\" data-control-id=\"nZ52WLCJTRe8/rVcQGcMdQ==\" data-control-name=\"search_srp_result\" href=\"/in/sagar-deshmukh-20695524/\" id=\"ember105\"> <figure class=\"search-result__image\">\n",
       "<div class=\"ivm-image-view-model ember-view\" id=\"ember106\"> <div class=\"display-flex ivm-view-attr__img-wrapper ivm-view-attr__img-wrapper--use-img-tag ember-view\" id=\"ember107\"><!-- --> <div class=\"presence-entity presence-entity--size-4 ember-view\" id=\"ember240\"><img alt=\"Sagar Deshmukh\" class=\"ivm-view-attr__img--centered EntityPhoto-circle-4 presence-entity__image EntityPhoto-circle-4 lazy-image loaded ember-view\" id=\"ember241\" loading=\"\" src=\"https://media-exp1.licdn.com/dms/image/C4D03AQF2mp1psVF7jQ/profile-displayphoto-shrink_100_100/0?e=1589414400&amp;v=beta&amp;t=5ZGpsrQefnpDZ_DUri9H4MWiBXdI0jYVDeYac5k4HBw\" title=\"Sagar Deshmukh\"/>\n",
       "<div class=\"presence-entity__indicator presence-entity__indicator--size-4 presence-indicator hidden presence-indicator--size-4 ember-view\" id=\"ember242\">\n",
       "<span class=\"visually-hidden\">\n",
       "    Status is offline\n",
       "  </span></div></div>\n",
       "</div>\n",
       "</div>\n",
       "</figure>\n",
       "</a> </div>\n",
       "<div class=\"search-result__info pt3 pb4 ph0\">\n",
       "<a class=\"search-result__result-link ember-view\" data-control-id=\"nZ52WLCJTRe8/rVcQGcMdQ==\" data-control-name=\"search_srp_result\" href=\"/in/sagar-deshmukh-20695524/\" id=\"ember109\"> <h3 class=\"actor-name-with-distance search-result__title single-line-truncate ember-view\" id=\"ember110\"><span class=\"name-and-icon\"><span class=\"name-and-distance\">\n",
       "<span class=\"name actor-name\">Sagar Deshmukh</span>\n",
       "<span class=\"distance-badge separator ember-view\" data-test-distance-badge=\"\" id=\"ember111\"><span class=\"visually-hidden\">\n",
       "    2nd degree connection\n",
       "</span>\n",
       "<span class=\"dist-value\">2nd</span>\n",
       "</span>\n",
       "</span><!-- --></span>\n",
       "</h3>\n",
       "</a> <p class=\"subline-level-1 t-14 t-black t-normal search-result__truncate\">\n",
       "<span dir=\"ltr\">Founder &amp; Chief Executive Officer (CEO) at SABER SOFTECH PRIVATE LIMITED</span>\n",
       "</p>\n",
       "<p class=\"subline-level-2 t-12 t-black--light t-normal search-result__truncate\">\n",
       "<span dir=\"ltr\">Pune Area, India</span>\n",
       "</p>\n",
       "<!-- -->\n",
       "<div class=\"search-result__social-proof ember-view\" data-test-social-proof-with-names=\"\" id=\"ember112\"> <li-icon aria-hidden=\"true\" class=\"t-black--light\" size=\"small\" type=\"people-icon\"><svg data-supported-dps=\"16x16\" fill=\"currentColor\" focusable=\"false\" height=\"16\" viewbox=\"0 0 16 16\" width=\"16\" xmlns=\"http://www.w3.org/2000/svg\">\n",
       "<path d=\"M14.27 9.23l-1.2-.45.31-.51A4.17 4.17 0 0014 6.08V5.5a2.5 2.5 0 00-5 0v.58a4.17 4.17 0 00.62 2.19l.31.51-1.15.43a3.48 3.48 0 00-1-.63L7 8.29v-.56l.25-.41A5 5 0 008 4.69V4a3 3 0 00-6 0v.69a5 5 0 00.75 2.63l.25.41v.56l-.74.29A3.5 3.5 0 000 11.84V13a1 1 0 001 1h14a1 1 0 001-1v-1.25a2.7 2.7 0 00-1.73-2.52zm-3.39-3.85a.63.63 0 011.25 0v1a2.29 2.29 0 01-.34 1.2L11.5 8l-.28-.46a2.29 2.29 0 01-.34-1.2v-1zM4 3.75a1 1 0 012 0v1.44a3 3 0 01-.38 1.46l-.33.6a.25.25 0 01-.22.13h-.14a.25.25 0 01-.22-.13l-.33-.6A3 3 0 014 5.19V3.75zM8 12H2v-.32a1.5 1.5 0 011-1.4l1.5-.58v-.5a2 2 0 00.4.05h.2a2 2 0 00.4-.05v.5l1.5.58a1.5 1.5 0 011 1.4V12zm6.13 0H10v-.16a3.48 3.48 0 00-.24-1.25l1.24-.46v-.38h1v.38l1.54.61a.93.93 0 01.58.87V12z\"></path>\n",
       "</svg></li-icon>\n",
       "<span class=\"search-result__social-proof-count t-12 t-black--light ml1\">\n",
       "<span data-entity-hovercard-id=\"urn:li:fs_miniProfile:ACoAAAGM8fYBchbf4zCai83BWBMV-hJahVaA5Is\"><a class=\"li-i18n-linkto search-result__social-proof-link search-result__social-proof-connection-name search-result__social-proof-connection-name--1 t-bold\" data-control-id=\"nZ52WLCJTRe8/rVcQGcMdQ==\" data-control-name=\"view_mutual_connection_profile\" href=\"/in/piyush-bhamare-61a8668/\">Piyush Bhamare</a></span>, <span data-entity-hovercard-id=\"urn:li:fs_miniProfile:ACoAAAeih2YBxW8abX1VygD6ultjT3UkpoClqvA\"><a class=\"li-i18n-linkto search-result__social-proof-link search-result__social-proof-connection-name search-result__social-proof-connection-name--2 t-bold\" data-control-id=\"nZ52WLCJTRe8/rVcQGcMdQ==\" data-control-name=\"view_mutual_connection_profile\" href=\"/in/yogesh-mishra-39aa9336/\">Yogesh Mishra</a></span>, and <a class=\"li-i18n-linkto search-result__social-proof-link t-bold\" data-control-id=\"nZ52WLCJTRe8/rVcQGcMdQ==\" data-control-name=\"view_mutual_connections\" data-test-social-proof-count=\"true\" href=\"/search/results/people/?facetConnectionOf=%5B%22ACoAAAUfo-YBLHxuORdbGKcRf1h06yilqQdSQxg%22%5D&amp;facetNetwork=%5B%22F%22%5D&amp;origin=SHARED_CONNECTIONS_CANNED_SEARCH\">2 other shared connections</a>\n",
       "</span>\n",
       "</div>\n",
       "</div>\n",
       "<div class=\"search-result__actions\">\n",
       "<div class=\"ember-view\" id=\"ember232\"> <button aria-label=\"Connect with Sagar Deshmukh. Founder &amp;amp; Chief Executive Officer (CEO) at SABER SOFTECH PRIVATE LIMITED, Pune Area, India\" class=\"search-result__action-button search-result__actions--primary artdeco-button artdeco-button--default artdeco-button--2 artdeco-button--secondary\" data-control-name=\"srp_profile_actions\" data-ember-action=\"\" data-ember-action-233=\"233\">\n",
       "        Connect\n",
       "    </button>\n",
       "<div class=\"ember-view\" id=\"ember234\"><div class=\"ember-view\" id=\"ember235\"><!-- --></div></div>\n",
       "<!-- --></div>\n",
       "</div>\n",
       "<div class=\"ember-view\" id=\"ember113\"><div class=\"ember-view\" id=\"ember114\"><!-- --></div>\n",
       "</div>\n",
       "</div>\n",
       "</div>\n",
       "</li><li class=\"search-result search-result__occluded-item ember-view\" id=\"ember116\"> <div class=\"search-entity search-result search-result--person search-result--occlusion-enabled ember-view\" data-test-search-result=\"PROFILE\" id=\"ember117\"><div class=\"search-result__wrapper\">\n",
       "<div class=\"search-result__image-wrapper\">\n",
       "<a class=\"search-result__result-link loading disabled ember-view\" data-control-id=\"hH1WM0VvSh2jLTCwgrYF+Q==\" data-control-name=\"search_srp_result\" href=\"#\" id=\"ember118\"> <figure class=\"search-result__image\">\n",
       "<div class=\"ivm-image-view-model ember-view\" id=\"ember119\"> <div class=\"display-flex ivm-view-attr__img-wrapper ivm-view-attr__img-wrapper--use-img-tag ember-view\" id=\"ember120\"> <div class=\"EntityPhoto-circle-4-ghost-person ivm-view-attr__ghost-entity\">\n",
       "<!-- --> </div>\n",
       "</div>\n",
       "</div>\n",
       "</figure>\n",
       "</a> </div>\n",
       "<div class=\"search-result__info pt3 pb4 ph0\">\n",
       "<a class=\"search-result__result-link loading disabled ember-view\" data-control-id=\"hH1WM0VvSh2jLTCwgrYF+Q==\" data-control-name=\"search_srp_result\" href=\"#\" id=\"ember121\"> <h3 class=\"actor-name-with-distance search-result__title single-line-truncate ember-view\" id=\"ember122\"><span class=\"name-and-icon\"><span class=\"actor-name\">LinkedIn Member</span>\n",
       "<span class=\"distance-badge hidden separator ember-view\" data-test-distance-badge=\"\" id=\"ember123\"><span class=\"visually-hidden\">\n",
       "     \n",
       "</span>\n",
       "<span class=\"dist-value\"> </span>\n",
       "</span>\n",
       "</span>\n",
       "</h3>\n",
       "</a> <p class=\"subline-level-1 t-14 t-black t-normal search-result__truncate\">\n",
       "<span dir=\"ltr\">Chief Executive Officer at DELOPT</span>\n",
       "</p>\n",
       "<p class=\"subline-level-2 t-12 t-black--light t-normal search-result__truncate\">\n",
       "<span dir=\"ltr\">Bengaluru Area, India</span>\n",
       "</p>\n",
       "<!-- -->\n",
       "<!-- --> </div>\n",
       "<!-- --> <div class=\"ember-view\" id=\"ember124\"><div class=\"ember-view\" id=\"ember125\"><!-- --></div>\n",
       "</div>\n",
       "</div>\n",
       "</div>\n",
       "</li><li class=\"search-result search-result__occluded-item ember-view\" id=\"ember127\"> <div class=\"search-entity search-result search-result--person search-result--occlusion-enabled ember-view\" data-test-search-result=\"PROFILE\" id=\"ember128\"><div class=\"search-result__wrapper\">\n",
       "<div class=\"search-result__image-wrapper\">\n",
       "<a class=\"search-result__result-link loading disabled ember-view\" data-control-id=\"xMtY3rvYRXSVqKNv35xgjA==\" data-control-name=\"search_srp_result\" href=\"#\" id=\"ember129\"> <figure class=\"search-result__image\">\n",
       "<div class=\"ivm-image-view-model ember-view\" id=\"ember130\"> <div class=\"display-flex ivm-view-attr__img-wrapper ivm-view-attr__img-wrapper--use-img-tag ember-view\" id=\"ember131\"> <div class=\"EntityPhoto-circle-4-ghost-person ivm-view-attr__ghost-entity\">\n",
       "<!-- --> </div>\n",
       "</div>\n",
       "</div>\n",
       "</figure>\n",
       "</a> </div>\n",
       "<div class=\"search-result__info pt3 pb4 ph0\">\n",
       "<a class=\"search-result__result-link loading disabled ember-view\" data-control-id=\"xMtY3rvYRXSVqKNv35xgjA==\" data-control-name=\"search_srp_result\" href=\"#\" id=\"ember132\"> <h3 class=\"actor-name-with-distance search-result__title single-line-truncate ember-view\" id=\"ember133\"><span class=\"name-and-icon\"><span class=\"actor-name\">LinkedIn Member</span>\n",
       "<span class=\"distance-badge hidden separator ember-view\" data-test-distance-badge=\"\" id=\"ember134\"><span class=\"visually-hidden\">\n",
       "     \n",
       "</span>\n",
       "<span class=\"dist-value\"> </span>\n",
       "</span>\n",
       "</span>\n",
       "</h3>\n",
       "</a> <p class=\"subline-level-1 t-14 t-black t-normal search-result__truncate\">\n",
       "<span dir=\"ltr\">Chief Executive Officer at ENVISIONARD SOFTWARE SERVICES PRIVATE LIMITED</span>\n",
       "</p>\n",
       "<p class=\"subline-level-2 t-12 t-black--light t-normal search-result__truncate\">\n",
       "<span dir=\"ltr\">India</span>\n",
       "</p>\n",
       "<!-- -->\n",
       "<!-- --> </div>\n",
       "<!-- --> <div class=\"ember-view\" id=\"ember135\"><div class=\"ember-view\" id=\"ember136\"><!-- --></div>\n",
       "</div>\n",
       "</div>\n",
       "</div>\n",
       "</li><li class=\"search-result search-result__occluded-item search-result__occlusion-hint ember-view\" id=\"ember138\"><!-- --></li><li class=\"search-result search-result__occluded-item search-result__occlusion-hint ember-view\" id=\"ember140\"><!-- --></li><li class=\"search-result search-result__occluded-item search-result__occlusion-hint ember-view\" id=\"ember142\"><!-- --></li><li class=\"search-result search-result__occluded-item search-result__occlusion-hint ember-view\" id=\"ember144\"><!-- --></li><li class=\"search-result search-result__occluded-item ember-view\" id=\"ember146\"> <div class=\"search-entity search-result search-result--person search-result--occlusion-enabled ember-view\" data-test-search-result=\"PROFILE\" id=\"ember527\"><div class=\"search-result__wrapper\">\n",
       "<div class=\"search-result__image-wrapper\">\n",
       "<a class=\"search-result__result-link ember-view\" data-control-id=\"dcNAKy2rQ3yasBCuEqNMCw==\" data-control-name=\"search_srp_result\" href=\"/in/siva-kumar-245776138/\" id=\"ember528\"> <figure class=\"search-result__image\">\n",
       "<div class=\"ivm-image-view-model ember-view\" id=\"ember529\"> <div class=\"display-flex ivm-view-attr__img-wrapper ivm-view-attr__img-wrapper--use-img-tag ember-view\" id=\"ember530\"><!-- --> <div class=\"presence-entity presence-entity--size-4 ember-view\" id=\"ember542\"><img alt=\"Siva Kumar\" class=\"ivm-view-attr__img--centered EntityPhoto-circle-4 presence-entity__image EntityPhoto-circle-4 lazy-image loaded ember-view\" id=\"ember543\" loading=\"\" src=\"https://media-exp1.licdn.com/dms/image/C4D03AQESQWw8r2TCTQ/profile-displayphoto-shrink_100_100/0?e=1589414400&amp;v=beta&amp;t=bxRLIsG1W4j1-yviyG7XBf3NWuy4BlGlBHhixFVkD1w\" title=\"Siva Kumar\"/>\n",
       "<div class=\"presence-entity__indicator presence-entity__indicator--size-4 presence-indicator hidden presence-indicator--size-4 ember-view\" id=\"ember544\">\n",
       "<span class=\"visually-hidden\">\n",
       "    Status is offline\n",
       "  </span></div></div>\n",
       "</div>\n",
       "</div>\n",
       "</figure>\n",
       "</a> </div>\n",
       "<div class=\"search-result__info pt3 pb4 ph0\">\n",
       "<a class=\"search-result__result-link ember-view\" data-control-id=\"dcNAKy2rQ3yasBCuEqNMCw==\" data-control-name=\"search_srp_result\" href=\"/in/siva-kumar-245776138/\" id=\"ember532\"> <h3 class=\"actor-name-with-distance search-result__title single-line-truncate ember-view\" id=\"ember533\"><span class=\"name-and-icon\"><span class=\"name-and-distance\">\n",
       "<span class=\"name actor-name\">Siva Kumar</span>\n",
       "<span class=\"distance-badge separator ember-view\" data-test-distance-badge=\"\" id=\"ember534\"><span class=\"visually-hidden\">\n",
       "    2nd degree connection\n",
       "</span>\n",
       "<span class=\"dist-value\">2nd</span>\n",
       "</span>\n",
       "</span><!-- --></span>\n",
       "</h3>\n",
       "</a> <p class=\"subline-level-1 t-14 t-black t-normal search-result__truncate\">\n",
       "<span dir=\"ltr\">Chief Executive Officer at Getinfy Solutions</span>\n",
       "</p>\n",
       "<p class=\"subline-level-2 t-12 t-black--light t-normal search-result__truncate\">\n",
       "<span dir=\"ltr\">India</span>\n",
       "</p>\n",
       "<!-- -->\n",
       "<div class=\"search-result__social-proof ember-view\" data-test-social-proof-with-names=\"\" id=\"ember535\"> <li-icon aria-hidden=\"true\" class=\"t-black--light\" size=\"small\" type=\"people-icon\"><svg data-supported-dps=\"16x16\" fill=\"currentColor\" focusable=\"false\" height=\"16\" viewbox=\"0 0 16 16\" width=\"16\" xmlns=\"http://www.w3.org/2000/svg\">\n",
       "<path d=\"M14.27 9.23l-1.2-.45.31-.51A4.17 4.17 0 0014 6.08V5.5a2.5 2.5 0 00-5 0v.58a4.17 4.17 0 00.62 2.19l.31.51-1.15.43a3.48 3.48 0 00-1-.63L7 8.29v-.56l.25-.41A5 5 0 008 4.69V4a3 3 0 00-6 0v.69a5 5 0 00.75 2.63l.25.41v.56l-.74.29A3.5 3.5 0 000 11.84V13a1 1 0 001 1h14a1 1 0 001-1v-1.25a2.7 2.7 0 00-1.73-2.52zm-3.39-3.85a.63.63 0 011.25 0v1a2.29 2.29 0 01-.34 1.2L11.5 8l-.28-.46a2.29 2.29 0 01-.34-1.2v-1zM4 3.75a1 1 0 012 0v1.44a3 3 0 01-.38 1.46l-.33.6a.25.25 0 01-.22.13h-.14a.25.25 0 01-.22-.13l-.33-.6A3 3 0 014 5.19V3.75zM8 12H2v-.32a1.5 1.5 0 011-1.4l1.5-.58v-.5a2 2 0 00.4.05h.2a2 2 0 00.4-.05v.5l1.5.58a1.5 1.5 0 011 1.4V12zm6.13 0H10v-.16a3.48 3.48 0 00-.24-1.25l1.24-.46v-.38h1v.38l1.54.61a.93.93 0 01.58.87V12z\"></path>\n",
       "</svg></li-icon>\n",
       "<span class=\"search-result__social-proof-count t-12 t-black--light ml1\">\n",
       "<span data-entity-hovercard-id=\"urn:li:fs_miniProfile:ACoAAAB23HsB2MXyCFyg-kh2aGaNBGXBiKO1Wj4\"><a class=\"li-i18n-linkto search-result__social-proof-link search-result__social-proof-connection-name search-result__social-proof-connection-name--1 t-bold\" data-control-id=\"dcNAKy2rQ3yasBCuEqNMCw==\" data-control-name=\"view_mutual_connection_profile\" href=\"/in/hemant-jain-b0b7372/\">Hemant Jain</a></span> is a shared connection\n",
       "    </span>\n",
       "</div>\n",
       "</div>\n",
       "<div class=\"search-result__actions\">\n",
       "<div class=\"ember-view\" id=\"ember536\"> <button aria-label=\"Connect with Siva Kumar. Chief Executive Officer at Getinfy Solutions, India\" class=\"search-result__action-button search-result__actions--primary artdeco-button artdeco-button--default artdeco-button--2 artdeco-button--secondary\" data-control-name=\"srp_profile_actions\" data-ember-action=\"\" data-ember-action-537=\"537\">\n",
       "        Connect\n",
       "    </button>\n",
       "<div class=\"ember-view\" id=\"ember538\"><div class=\"ember-view\" id=\"ember539\"><!-- --></div></div>\n",
       "<!-- --></div>\n",
       "</div>\n",
       "<div class=\"ember-view\" id=\"ember540\"><div class=\"ember-view\" id=\"ember541\"><!-- --></div>\n",
       "</div>\n",
       "</div>\n",
       "</div>\n",
       "</li>\n",
       "</ul>\n",
       "<div class=\"ember-view\" id=\"ember147\"> <div class=\"ember-view\" id=\"ember545\"> <div class=\"search-feedback-card__container--top-divider display-flex p5 t-sans t-14 justify-space-between\">\n",
       "<div>\n",
       "<p class=\"t-16 t-black t-bold\">\n",
       "          Are these search results helpful?\n",
       "        </p>\n",
       "<p class=\"t-14 t-black--light t-normal\">\n",
       "          Your feedback helps us improve.\n",
       "        </p>\n",
       "</div>\n",
       "<div class=\"flex-shrink-zero\">\n",
       "<button class=\"artdeco-button artdeco-button--circle artdeco-button--2 artdeco-button--secondary ember-view\" id=\"ember546\"> <li-icon aria-hidden=\"true\" class=\"artdeco-button__icon\" type=\"like-icon\"><svg data-supported-dps=\"24x24\" fill=\"currentColor\" focusable=\"false\" height=\"24\" viewbox=\"0 0 24 24\" width=\"24\" xmlns=\"http://www.w3.org/2000/svg\">\n",
       "<path d=\"M17.51 11l-2.15-3a14.81 14.81 0 01-2.25-5.29L12.74 1H10.5A2.5 2.5 0 008 3.5v.58a9 9 0 00.32 2.39L9 9H4.66A2.61 2.61 0 002 11.4a2.48 2.48 0 00.39 1.43 2.48 2.48 0 00.69 3.39 2.46 2.46 0 001.45 2.92 2.47 2.47 0 000 .36A2.5 2.5 0 007 22h4.52a8 8 0 001.94-.24l3-.76H21V11h-3.49zM19 19h-2.12l-3.41.82A6 6 0 0112 20H7a.9.9 0 01-.9-.89v-.14l.15-1-1-.4a.9.9 0 01-.55-.83.93.93 0 010-.22l.3-.95-.73-.57a.9.9 0 01-.39-.74.88.88 0 01.12-.44l.46-.72-.46-.72a.88.88 0 01-.14-.51 1 1 0 011-.87h6.64l-1.3-4.7a9 9 0 01-.33-2.37v-.55a.5.5 0 01.5-.5h.95a17.82 17.82 0 002.52 6.22L16.6 13H19v6z\"></path>\n",
       "</svg></li-icon>\n",
       "<span class=\"artdeco-button__text\">\n",
       "</span></button>\n",
       "<button class=\"ml3 artdeco-button artdeco-button--circle artdeco-button--2 artdeco-button--secondary ember-view\" id=\"ember547\"> <li-icon aria-hidden=\"true\" class=\"artdeco-button__icon\" type=\"dislike-icon\"><svg data-supported-dps=\"24x24\" fill=\"currentColor\" focusable=\"false\" height=\"24\" viewbox=\"0 0 24 24\" width=\"24\" xmlns=\"http://www.w3.org/2000/svg\">\n",
       "<path d=\"M21 13V3h-4.5l-3-.76A8 8 0 0011.52 2H7a2.5 2.5 0 00-2.5 2.5 2.47 2.47 0 000 .36 2.46 2.46 0 00-1.42 2.92 2.48 2.48 0 00-.69 3.39A2.48 2.48 0 002 12.6 2.61 2.61 0 004.66 15H9l-.7 2.53a9 9 0 00-.3 2.39v.58a2.5 2.5 0 002.5 2.5h2.24l.37-1.67A14.81 14.81 0 0115.36 16l2.15-3H21zm-2-2h-2.4l-2.76 3.91a17.82 17.82 0 00-2.52 6.22h-.94a.5.5 0 01-.5-.5v-.56a9 9 0 01.33-2.37L11.5 13H4.92a1 1 0 01-1-.87.88.88 0 01.08-.51l.46-.72-.46-.72a.88.88 0 01-.12-.48.9.9 0 01.39-.7L5 8.43l-.19-.91a.93.93 0 010-.22.9.9 0 01.55-.83l1-.4L6.14 5v-.14A.9.9 0 017 4h5a6 6 0 011.46.18l3.42.82H19v6z\"></path>\n",
       "</svg></li-icon>\n",
       "<span class=\"artdeco-button__text\">\n",
       "</span></button>\n",
       "</div>\n",
       "</div>\n",
       "</div>\n",
       "</div><!-- -->\n",
       "<div class=\"ember-view\" id=\"ember148\"> <hr class=\"artdeco-divider mv0\"/>\n",
       "<artdeco-pagination class=\"artdeco-pagination pv5\">\n",
       "<button aria-label=\"Previous\" class=\"artdeco-pagination__button artdeco-pagination__button--previous artdeco-button artdeco-button--muted artdeco-button--1 artdeco-button--tertiary artdeco-button--disabled ember-view\" disabled=\"\" id=\"ember496\"> <li-icon aria-hidden=\"true\" class=\"artdeco-button__icon\" size=\"small\" type=\"chevron-left-icon\"><svg data-supported-dps=\"16x16\" fill=\"currentColor\" focusable=\"false\" height=\"16\" viewbox=\"0 0 16 16\" width=\"16\" xmlns=\"http://www.w3.org/2000/svg\">\n",
       "<path d=\"M7 8l4 5.9L9.5 15 5.3 8.8a1.22 1.22 0 010-1.6L9.5 1 11 2.1z\"></path>\n",
       "</svg></li-icon>\n",
       "<span class=\"artdeco-button__text\">\n",
       "    Previous\n",
       "</span></button>\n",
       "<ul class=\"artdeco-pagination__pages artdeco-pagination__pages--number\">\n",
       "<li class=\"artdeco-pagination__indicator artdeco-pagination__indicator--number active selected\">\n",
       "<button aria-current=\"true\" aria-label=\"Page 1\">\n",
       "<span>1</span>\n",
       "<span class=\"artdeco-sr-only\">Current page</span>\n",
       "</button>\n",
       "</li>\n",
       "<li class=\"artdeco-pagination__indicator artdeco-pagination__indicator--number\">\n",
       "<button aria-label=\"Page 2\" data-ember-action=\"\" data-ember-action-501=\"501\">\n",
       "<span>2</span>\n",
       "</button>\n",
       "</li>\n",
       "<li class=\"artdeco-pagination__indicator artdeco-pagination__indicator--number\">\n",
       "<button aria-label=\"Page 3\" data-ember-action=\"\" data-ember-action-504=\"504\">\n",
       "<span>3</span>\n",
       "</button>\n",
       "</li>\n",
       "<li class=\"artdeco-pagination__indicator artdeco-pagination__indicator--number\">\n",
       "<button aria-label=\"Page 4\" data-ember-action=\"\" data-ember-action-507=\"507\">\n",
       "<span>4</span>\n",
       "</button>\n",
       "</li>\n",
       "<li class=\"artdeco-pagination__indicator artdeco-pagination__indicator--number\">\n",
       "<button aria-label=\"Page 5\" data-ember-action=\"\" data-ember-action-510=\"510\">\n",
       "<span>5</span>\n",
       "</button>\n",
       "</li>\n",
       "<li class=\"artdeco-pagination__indicator artdeco-pagination__indicator--number\">\n",
       "<button aria-label=\"Page 6\" data-ember-action=\"\" data-ember-action-513=\"513\">\n",
       "<span>6</span>\n",
       "</button>\n",
       "</li>\n",
       "<li class=\"artdeco-pagination__indicator artdeco-pagination__indicator--number\">\n",
       "<button aria-label=\"Page 7\" data-ember-action=\"\" data-ember-action-516=\"516\">\n",
       "<span>7</span>\n",
       "</button>\n",
       "</li>\n",
       "<li class=\"artdeco-pagination__indicator artdeco-pagination__indicator--number\">\n",
       "<button aria-label=\"Page 8\" data-ember-action=\"\" data-ember-action-519=\"519\">\n",
       "<span>8</span>\n",
       "</button>\n",
       "</li>\n",
       "<li class=\"artdeco-pagination__indicator artdeco-pagination__indicator--number\">\n",
       "<button aria-label=\"Page 9\" data-ember-action=\"\" data-ember-action-522=\"522\">\n",
       "<span>…</span>\n",
       "</button>\n",
       "</li>\n",
       "<li class=\"artdeco-pagination__indicator artdeco-pagination__indicator--number\">\n",
       "<button aria-label=\"Page 100\" data-ember-action=\"\" data-ember-action-525=\"525\">\n",
       "<span>100</span>\n",
       "</button>\n",
       "</li>\n",
       "</ul>\n",
       "<button aria-label=\"Next\" class=\"artdeco-pagination__button artdeco-pagination__button--next artdeco-button artdeco-button--muted artdeco-button--icon-right artdeco-button--1 artdeco-button--tertiary ember-view\" id=\"ember526\"> <li-icon aria-hidden=\"true\" class=\"artdeco-button__icon\" size=\"small\" type=\"chevron-right-icon\"><svg data-supported-dps=\"16x16\" fill=\"currentColor\" focusable=\"false\" height=\"16\" viewbox=\"0 0 16 16\" width=\"16\" xmlns=\"http://www.w3.org/2000/svg\">\n",
       "<path d=\"M9 8L5 2.07 6.54 1l4.2 6.15a1.5 1.5 0 010 1.69L6.54 15 5 13.93z\"></path>\n",
       "</svg></li-icon>\n",
       "<span class=\"artdeco-button__text\">\n",
       "    Next\n",
       "</span></button>\n",
       "</artdeco-pagination>\n",
       "</div>\n",
       "<div class=\"pb5 ember-view\" id=\"ember149\"><section class=\"ad-banner-container ember-view\" id=\"ember150\"><iframe class=\"ad-banner\" height=\"80\" scrolling=\"no\" src=\"about:blank\" title=\"advertisement\" width=\"496\"></iframe>\n",
       "<!-- --></section>\n",
       "</div>\n",
       "</div>"
      ]
     },
     "execution_count": 31,
     "metadata": {},
     "output_type": "execute_result"
    }
   ],
   "source": [
    "src = driver.page_source\n",
    "soup = BeautifulSoup(src, 'lxml')\n",
    "#soup\n",
    "name_div = soup.find('div', {'class': 'blended-srp-results-js pt0 pb4 ph0 container-with-shadow'})\n",
    "name_div\n",
    "\n",
    "    "
   ]
  },
  {
   "cell_type": "code",
   "execution_count": 32,
   "metadata": {},
   "outputs": [],
   "source": [
    "name_ul = soup.find('ul',{'search-results__list list-style-none'})\n",
    "#name_ul"
   ]
  },
  {
   "cell_type": "code",
   "execution_count": 33,
   "metadata": {},
   "outputs": [
    {
     "data": {
      "text/plain": [
       "'Salil Godika'"
      ]
     },
     "execution_count": 33,
     "metadata": {},
     "output_type": "execute_result"
    }
   ],
   "source": [
    "name = name_ul.find('span',{'class':'name actor-name'}).get_text().strip()\n",
    "name"
   ]
  },
  {
   "cell_type": "code",
   "execution_count": 34,
   "metadata": {},
   "outputs": [
    {
     "data": {
      "text/plain": [
       "'Chief Executive Officer (CEO) at Technosoft Corp.'"
      ]
     },
     "execution_count": 34,
     "metadata": {},
     "output_type": "execute_result"
    }
   ],
   "source": [
    "designation = name_div.find('p',{'class':'subline-level-1 t-14 t-black t-normal search-result__truncate'}).get_text().strip()\n",
    "designation"
   ]
  },
  {
   "cell_type": "code",
   "execution_count": 35,
   "metadata": {},
   "outputs": [
    {
     "data": {
      "text/plain": [
       "'Bengaluru Area, India'"
      ]
     },
     "execution_count": 35,
     "metadata": {},
     "output_type": "execute_result"
    }
   ],
   "source": [
    "loc = name_div.find('p',{'class':'subline-level-2 t-12 t-black--light t-normal search-result__truncate'}).get_text().strip()\n",
    "#location=loc.find('span')\n",
    "loc"
   ]
  },
  {
   "cell_type": "code",
   "execution_count": null,
   "metadata": {},
   "outputs": [],
   "source": []
  },
  {
   "cell_type": "code",
   "execution_count": null,
   "metadata": {},
   "outputs": [],
   "source": []
  },
  {
   "cell_type": "code",
   "execution_count": null,
   "metadata": {},
   "outputs": [],
   "source": []
  },
  {
   "cell_type": "code",
   "execution_count": null,
   "metadata": {},
   "outputs": [],
   "source": []
  },
  {
   "cell_type": "code",
   "execution_count": 99,
   "metadata": {},
   "outputs": [],
   "source": []
  },
  {
   "cell_type": "code",
   "execution_count": null,
   "metadata": {},
   "outputs": [],
   "source": []
  },
  {
   "cell_type": "code",
   "execution_count": null,
   "metadata": {},
   "outputs": [],
   "source": [
    "\n"
   ]
  },
  {
   "cell_type": "code",
   "execution_count": null,
   "metadata": {},
   "outputs": [],
   "source": []
  },
  {
   "cell_type": "code",
   "execution_count": null,
   "metadata": {},
   "outputs": [],
   "source": []
  },
  {
   "cell_type": "code",
   "execution_count": null,
   "metadata": {},
   "outputs": [],
   "source": []
  },
  {
   "cell_type": "code",
   "execution_count": null,
   "metadata": {},
   "outputs": [],
   "source": []
  },
  {
   "cell_type": "markdown",
   "metadata": {},
   "source": []
  },
  {
   "cell_type": "code",
   "execution_count": 48,
   "metadata": {},
   "outputs": [],
   "source": []
  },
  {
   "cell_type": "code",
   "execution_count": null,
   "metadata": {},
   "outputs": [],
   "source": []
  },
  {
   "cell_type": "code",
   "execution_count": null,
   "metadata": {},
   "outputs": [],
   "source": []
  },
  {
   "cell_type": "code",
   "execution_count": null,
   "metadata": {},
   "outputs": [],
   "source": []
  },
  {
   "cell_type": "code",
   "execution_count": null,
   "metadata": {},
   "outputs": [],
   "source": []
  },
  {
   "cell_type": "code",
   "execution_count": null,
   "metadata": {},
   "outputs": [],
   "source": []
  },
  {
   "cell_type": "code",
   "execution_count": null,
   "metadata": {},
   "outputs": [],
   "source": []
  },
  {
   "cell_type": "code",
   "execution_count": null,
   "metadata": {},
   "outputs": [],
   "source": []
  },
  {
   "cell_type": "code",
   "execution_count": null,
   "metadata": {},
   "outputs": [],
   "source": []
  },
  {
   "cell_type": "code",
   "execution_count": null,
   "metadata": {},
   "outputs": [],
   "source": []
  },
  {
   "cell_type": "markdown",
   "metadata": {},
   "source": []
  },
  {
   "cell_type": "code",
   "execution_count": null,
   "metadata": {},
   "outputs": [],
   "source": []
  },
  {
   "cell_type": "code",
   "execution_count": null,
   "metadata": {},
   "outputs": [],
   "source": []
  },
  {
   "cell_type": "code",
   "execution_count": null,
   "metadata": {},
   "outputs": [],
   "source": []
  },
  {
   "cell_type": "code",
   "execution_count": null,
   "metadata": {},
   "outputs": [],
   "source": []
  },
  {
   "cell_type": "code",
   "execution_count": null,
   "metadata": {},
   "outputs": [],
   "source": []
  },
  {
   "cell_type": "code",
   "execution_count": null,
   "metadata": {},
   "outputs": [],
   "source": []
  },
  {
   "cell_type": "code",
   "execution_count": null,
   "metadata": {},
   "outputs": [],
   "source": []
  },
  {
   "cell_type": "code",
   "execution_count": null,
   "metadata": {},
   "outputs": [],
   "source": []
  },
  {
   "cell_type": "code",
   "execution_count": null,
   "metadata": {},
   "outputs": [],
   "source": []
  },
  {
   "cell_type": "code",
   "execution_count": null,
   "metadata": {},
   "outputs": [],
   "source": []
  },
  {
   "cell_type": "code",
   "execution_count": null,
   "metadata": {},
   "outputs": [],
   "source": []
  },
  {
   "cell_type": "code",
   "execution_count": null,
   "metadata": {},
   "outputs": [],
   "source": []
  },
  {
   "cell_type": "code",
   "execution_count": null,
   "metadata": {},
   "outputs": [],
   "source": []
  },
  {
   "cell_type": "code",
   "execution_count": null,
   "metadata": {},
   "outputs": [],
   "source": []
  },
  {
   "cell_type": "code",
   "execution_count": null,
   "metadata": {},
   "outputs": [],
   "source": []
  },
  {
   "cell_type": "code",
   "execution_count": null,
   "metadata": {},
   "outputs": [],
   "source": []
  },
  {
   "cell_type": "code",
   "execution_count": null,
   "metadata": {},
   "outputs": [],
   "source": []
  },
  {
   "cell_type": "code",
   "execution_count": null,
   "metadata": {},
   "outputs": [],
   "source": []
  },
  {
   "cell_type": "code",
   "execution_count": null,
   "metadata": {},
   "outputs": [],
   "source": []
  },
  {
   "cell_type": "code",
   "execution_count": null,
   "metadata": {},
   "outputs": [],
   "source": []
  },
  {
   "cell_type": "code",
   "execution_count": null,
   "metadata": {},
   "outputs": [],
   "source": []
  },
  {
   "cell_type": "code",
   "execution_count": null,
   "metadata": {},
   "outputs": [],
   "source": []
  },
  {
   "cell_type": "code",
   "execution_count": null,
   "metadata": {},
   "outputs": [],
   "source": []
  },
  {
   "cell_type": "code",
   "execution_count": null,
   "metadata": {},
   "outputs": [],
   "source": []
  }
 ],
 "metadata": {
  "kernelspec": {
   "display_name": "Python 3",
   "language": "python",
   "name": "python3"
  },
  "language_info": {
   "codemirror_mode": {
    "name": "ipython",
    "version": 3
   },
   "file_extension": ".py",
   "mimetype": "text/x-python",
   "name": "python",
   "nbconvert_exporter": "python",
   "pygments_lexer": "ipython3",
   "version": "3.8.1"
  }
 },
 "nbformat": 4,
 "nbformat_minor": 2
}
