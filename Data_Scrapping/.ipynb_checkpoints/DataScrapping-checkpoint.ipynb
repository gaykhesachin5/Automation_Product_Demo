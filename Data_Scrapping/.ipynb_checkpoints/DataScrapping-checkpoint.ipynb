{
 "cells": [
  {
   "cell_type": "code",
   "execution_count": 4,
   "metadata": {},
   "outputs": [],
   "source": [
    "import requests, time, random\n",
    "from bs4 import BeautifulSoup\n",
    "from selenium import webdriver  \n",
    "import pandas as pd"
   ]
  },
  {
   "cell_type": "code",
   "execution_count": 5,
   "metadata": {},
   "outputs": [],
   "source": [
    "driver = webdriver.Firefox( executable_path = \"driver/geckodriver.exe\")\n",
    "driver.get('https://www.linkedin.com/uas/login')\n",
    "#browser = webdriver.Chrome('driver/chromedriver.exe')\n",
    "#browser.get('https://www.linkedin.com/uas/login')\n",
    "file = open('config.txt')\n",
    "lines = file.readlines()\n",
    "username = lines[0]\n",
    "password = lines[1]\n",
    "elementID = driver.find_element_by_xpath('//*[@id=\"username\"]')\n",
    "elementID.send_keys(username)\n",
    "elementID = driver.find_element_by_xpath('//*[@id=\"password\"]')\n",
    "elementID.send_keys(password)\n",
    "elementID.submit()"
   ]
  },
  {
   "cell_type": "code",
   "execution_count": 6,
   "metadata": {},
   "outputs": [],
   "source": [
    "link = 'https://www.linkedin.com/search/results/people/?facetGeoRegion=%5B%22in%3A0%22%5D&facetIndustry=%5B%224%22%5D&origin=FACETED_SEARCH&title=CEO'\n",
    "driver.get(link)\n"
   ]
  },
  {
   "cell_type": "code",
   "execution_count": 7,
   "metadata": {},
   "outputs": [],
   "source": [
    "SCROLL_PAUSE_TIME = 5\n",
    "\n",
    "# Get scroll height\n",
    "last_height = driver.execute_script(\"return document.body.scrollHeight\")\n",
    "\n",
    "for i in range(3):\n",
    "    # Scroll down to bottom\n",
    "    driver.execute_script(\"window.scrollTo(0, document.body.scrollHeight);\")\n",
    "\n",
    "    # Wait to load page\n",
    "    time.sleep(SCROLL_PAUSE_TIME)\n",
    "\n",
    "    # Calculate new scroll height and compare with last scroll height\n",
    "    new_height = driver.execute_script(\"return document.body.scrollHeight\")\n",
    "    if new_height == last_height:\n",
    "        break\n",
    "    last_height = new_height\n",
    "    \n",
    "    \n",
    "    \n",
    "    "
   ]
  },
  {
   "cell_type": "code",
   "execution_count": null,
   "metadata": {},
   "outputs": [],
   "source": [
    "page_no=1\n",
    "no_of_pages=1\n",
    "urlf=link+ str(page_no)\n",
    "name=[] #List to store name of person\n",
    "designation=[] #List to store designation of the person\n",
    "while page_no<=no_of_pages:\n",
    "    source = requests.get(urlf).text\n",
    "    soup = BeautifulSoup(source,'lxml')\n",
    "    \n",
    "    for a in soup.findAll('a',href=True, attrs={'class':'search-result__result-link ember-view'}):\n",
    "        pname=a.find('span', attrs={'class':'name actor-name'})\n",
    "        name.append(pname.text)\n",
    "df = pd.DataFrame({'Name':name}) \n",
    "df.to_csv('Data_file1.csv', index=True, index_label='Sr. No.', encoding='utf-8')\n",
    "print('successfully')"
   ]
  },
  {
   "cell_type": "code",
   "execution_count": null,
   "metadata": {},
   "outputs": [],
   "source": []
  },
  {
   "cell_type": "code",
   "execution_count": null,
   "metadata": {},
   "outputs": [],
   "source": []
  },
  {
   "cell_type": "code",
   "execution_count": null,
   "metadata": {},
   "outputs": [],
   "source": []
  }
 ],
 "metadata": {
  "kernelspec": {
   "display_name": "Python 3",
   "language": "python",
   "name": "python3"
  },
  "language_info": {
   "codemirror_mode": {
    "name": "ipython",
    "version": 3
   },
   "file_extension": ".py",
   "mimetype": "text/x-python",
   "name": "python",
   "nbconvert_exporter": "python",
   "pygments_lexer": "ipython3",
   "version": "3.8.1"
  }
 },
 "nbformat": 4,
 "nbformat_minor": 4
}
